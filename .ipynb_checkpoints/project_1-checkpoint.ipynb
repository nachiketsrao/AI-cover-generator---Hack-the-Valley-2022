{
 "cells": [
  {
   "cell_type": "code",
   "execution_count": 8,
   "id": "30920e80",
   "metadata": {},
   "outputs": [
    {
     "data": {
      "text/plain": [
       "'\\nThe only problem with SpeechRecognition is that if the audio is too long, the request times out.\\nFix this.\\n'"
      ]
     },
     "execution_count": 8,
     "metadata": {},
     "output_type": "execute_result"
    }
   ],
   "source": [
    "#%pip install SpeechRecognition // use this command with the % to pip install a project\n",
    "# TODO:\n",
    "'''\n",
    "The only problem with SpeechRecognition is that if the audio is too long, the request times out.\n",
    "Fix this.\n",
    "'''"
   ]
  },
  {
   "cell_type": "code",
   "execution_count": 9,
   "id": "396cc782",
   "metadata": {},
   "outputs": [
    {
     "name": "stdout",
     "output_type": "stream",
     "text": [
      "Converting audio transcripts into text ...\n",
      "beauty queen of only 18 she had some trouble with her\n"
     ]
    }
   ],
   "source": [
    "#import library\n",
    "import speech_recognition as sr  # pip install req: SpeechRecognition\n",
    "\n",
    "# Initialize recognizer class (for recognizing the speech)\n",
    "r = sr.Recognizer()\n",
    "\n",
    "# Reading Audio file as source\n",
    "# listening the audio file and store in audio_text variable\n",
    "\n",
    "with sr.AudioFile('maroon1_10.wav') as source:\n",
    "    \n",
    "    audio_text = r.listen(source)\n",
    "    \n",
    "# recoginize_() method will throw a request error if the API is unreachable, hence using exception handling\n",
    "    #try:\n",
    "        # using google speech recognition\n",
    "    text = r.recognize_google(audio_text)\n",
    "    print('Converting audio transcripts into text ...')\n",
    "    print(text)\n",
    "    #except:\n",
    "        #print('Sorry.. run again...')"
   ]
  },
  {
   "cell_type": "code",
   "execution_count": 28,
   "id": "3782fa9c",
   "metadata": {},
   "outputs": [
    {
     "name": "stdout",
     "output_type": "stream",
     "text": [
      "all the words are:  ['beauty', 'queen', 'of', 'only', '18', 'she', 'had', 'some', 'trouble', 'with', 'her']\n",
      "number of words is:  11\n",
      "all the sentences are:  ['beauty queen of only 18 she had some trouble with her']\n",
      "number of sentences is:  1\n"
     ]
    }
   ],
   "source": [
    "# FINDING 5 IMPORTANT WORDS FROM LYRICS:\n",
    "# https://www.analyticsvidhya.com/blog/2020/11/words-that-matter-a-simple-guide-to-keyword-extraction-in-python/\n",
    "# I ran  python -m nltk.downloader stopwords in local repo\n",
    "# stopwords stored in : C:\\Users\\CodeNacho\\AppData\\Roaming\\nltk_data\n",
    "from nltk import tokenize\n",
    "from operator import itemgetter\n",
    "import math\n",
    "\n",
    "# we will be working on the lyrics stored in 'text'\n",
    "\n",
    "# we remove stopwords:\n",
    "import nltk\n",
    "#from nltk.corpus import stopwords\n",
    "#from nltk.tokenize import word_tokenize \n",
    "stop_words = set(stopwords.words('english'))\n",
    "\n",
    "total_words= nltk.word_tokenize(text)\n",
    "total_word_length= len(words)\n",
    "print(\"all the words are: \",total_words)\n",
    "print(\"number of words is: \",total_word_length)\n",
    "\n",
    "# nltk.download('all')\n",
    "total_sentences = tokenize.sent_tokenize(text)\n",
    "total_sent_len = len(total_sentences)\n",
    "print(\"all the sentences are: \",total_sentences)\n",
    "print(\"number of sentences is: \",total_sent_len)"
   ]
  },
  {
   "cell_type": "code",
   "execution_count": 36,
   "id": "3714aa65",
   "metadata": {},
   "outputs": [
    {
     "name": "stdout",
     "output_type": "stream",
     "text": [
      "{'beauty': 0.09090909090909091, 'queen': 0.09090909090909091, 'trouble': 0.09090909090909091}\n"
     ]
    }
   ],
   "source": [
    "tf_score = {}\n",
    "for each_word in total_words:\n",
    "    each_word = each_word.replace('.','')\n",
    "    if each_word not in stop_words and each_word.isalpha(): # also excluding words that are numbers\n",
    "        if each_word in tf_score:\n",
    "            tf_score[each_word] += 1\n",
    "        else:\n",
    "            tf_score[each_word] = 1\n",
    "\n",
    "# TODO: exclude words that are not alphabets?\n",
    "# Dividing by total_word_length for each dictionary element\n",
    "tf_score.update((x, y/int(total_word_length)) for x, y in tf_score.items())\n",
    "print(tf_score)"
   ]
  },
  {
   "cell_type": "code",
   "execution_count": 30,
   "id": "3ee42a43",
   "metadata": {},
   "outputs": [],
   "source": [
    "def check_sent(word, sentences): \n",
    "    final = [all([w in x for w in word]) for x in sentences] \n",
    "    sent_len = [sentences[i] for i in range(0, len(final)) if final[i]]\n",
    "    return int(len(sent_len))"
   ]
  },
  {
   "cell_type": "code",
   "execution_count": 32,
   "id": "512ee31f",
   "metadata": {},
   "outputs": [
    {
     "data": {
      "text/plain": [
       "\"\\nidf_score = {}\\nfor each_word in total_words:\\n    each_word = each_word.replace('.','')\\n    if each_word not in stop_words:\\n        if each_word in idf_score:\\n            idf_score[each_word] = check_sent(each_word, total_sentences)\\n        else:\\n            idf_score[each_word] = 1\\n\\n# Performing a log and divide\\nidf_score.update((x, math.log(int(total_sent_len)/y)) for x, y in idf_score.items())\\n\\nprint(idf_score)\\n\""
      ]
     },
     "execution_count": 32,
     "metadata": {},
     "output_type": "execute_result"
    }
   ],
   "source": [
    "# TODO: BIG PROBLEM, if the words don't occur enough times, the IDF is just 0 - this can break things\n",
    "# Since the text is short (as the speech recognizer only works with short audio files), don't use IDF now\n",
    "'''\n",
    "idf_score = {}\n",
    "for each_word in total_words:\n",
    "    each_word = each_word.replace('.','')\n",
    "    if each_word not in stop_words:\n",
    "        if each_word in idf_score:\n",
    "            idf_score[each_word] = check_sent(each_word, total_sentences)\n",
    "        else:\n",
    "            idf_score[each_word] = 1\n",
    "\n",
    "# Performing a log and divide\n",
    "idf_score.update((x, math.log(int(total_sent_len)/y)) for x, y in idf_score.items())\n",
    "\n",
    "print(idf_score)\n",
    "'''"
   ]
  },
  {
   "cell_type": "code",
   "execution_count": 33,
   "id": "70af1f15",
   "metadata": {},
   "outputs": [
    {
     "data": {
      "text/plain": [
       "'\\ntf_idf_score = {key: tf_score[key] * idf_score.get(key, 0) for key in tf_score.keys()}\\nprint(tf_idf_score)\\ndef get_top_n(dict_elem, n):\\n    result = dict(sorted(dict_elem.items(), key = itemgetter(1), reverse = True)[:n]) \\n    return result\\nprint(get_top_n(tf_idf_score, 5)) # get the top 5 significant words\\n'"
      ]
     },
     "execution_count": 33,
     "metadata": {},
     "output_type": "execute_result"
    }
   ],
   "source": [
    "# RUN THIS ONLY WHEN BOTH TF AND IDF ARE AVAILABLE:\n",
    "'''\n",
    "tf_idf_score = {key: tf_score[key] * idf_score.get(key, 0) for key in tf_score.keys()}\n",
    "print(tf_idf_score)\n",
    "def get_top_n(dict_elem, n):\n",
    "    result = dict(sorted(dict_elem.items(), key = itemgetter(1), reverse = True)[:n]) \n",
    "    return result\n",
    "print(get_top_n(tf_idf_score, 5)) # get the top 5 significant words\n",
    "'''"
   ]
  },
  {
   "cell_type": "code",
   "execution_count": 35,
   "id": "662f6830",
   "metadata": {},
   "outputs": [
    {
     "name": "stdout",
     "output_type": "stream",
     "text": [
      "{'beauty': 0.09090909090909091, 'queen': 0.09090909090909091, '18': 0.09090909090909091}\n"
     ]
    }
   ],
   "source": [
    "# USING ONLY TF (AS IDF MAY YIELD JUST 0 AND SCREW UP RESULTS)\n",
    "def get_top_n(dict_elem, n):\n",
    "    result = dict(sorted(dict_elem.items(), key = itemgetter(1), reverse = True)[:n]) \n",
    "    return result\n",
    "print(get_top_n(tf_score, 3)) # gets the top 3 words from lyrics (using onyl TF_SCORE)"
   ]
  },
  {
   "cell_type": "code",
   "execution_count": null,
   "id": "a3024278",
   "metadata": {},
   "outputs": [],
   "source": []
  }
 ],
 "metadata": {
  "kernelspec": {
   "display_name": "Python 3",
   "language": "python",
   "name": "python3"
  },
  "language_info": {
   "codemirror_mode": {
    "name": "ipython",
    "version": 3
   },
   "file_extension": ".py",
   "mimetype": "text/x-python",
   "name": "python",
   "nbconvert_exporter": "python",
   "pygments_lexer": "ipython3",
   "version": "3.8.8"
  }
 },
 "nbformat": 4,
 "nbformat_minor": 5
}
